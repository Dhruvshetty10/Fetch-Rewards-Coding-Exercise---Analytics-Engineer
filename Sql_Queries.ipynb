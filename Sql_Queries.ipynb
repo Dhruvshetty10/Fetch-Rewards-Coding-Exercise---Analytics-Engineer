{
 "cells": [
  {
   "cell_type": "markdown",
   "id": "95bedf14-0d1d-496d-a97e-aaeadf4c9da4",
   "metadata": {},
   "source": [
    "## Second Part: Write queries that directly answer predetermined questions from a business stakeholder\n",
    "I am using SQLite database through SQL Alchemy python to implement the SQL database for the queries."
   ]
  },
  {
   "cell_type": "code",
   "execution_count": 120,
   "id": "424d3cfb-6cf6-42aa-915d-bf101aa338af",
   "metadata": {},
   "outputs": [],
   "source": [
    "import pandas as pd\n",
    "import json\n",
    "from sqlalchemy import create_engine, MetaData, Table, Column, String, Integer, Float, ForeignKey, text\n",
    "from datetime import datetime, timezone"
   ]
  },
  {
   "cell_type": "code",
   "execution_count": 122,
   "id": "6aad100d-2767-4b6e-8b67-8c0205442f07",
   "metadata": {},
   "outputs": [],
   "source": [
    "# Load JSON files into pandas DataFrames\n",
    "users_df = pd.read_json('/Users/spartan/Downloads/users.json', lines=True)\n",
    "receipts_df = pd.read_json('/Users/spartan/Downloads/receipts.json', lines=True)\n",
    "brands_df = pd.read_json('/Users/spartan/Downloads/brands.json', lines=True)"
   ]
  },
  {
   "cell_type": "markdown",
   "id": "8474db8f-da17-46fb-9fe9-bfb77be39c82",
   "metadata": {},
   "source": [
    "#### Step 1 - Clean and Normalize Data\n"
   ]
  },
  {
   "cell_type": "code",
   "execution_count": 125,
   "id": "f9c40fa9-8014-4d2d-be6c-bcc0b7a641a3",
   "metadata": {},
   "outputs": [],
   "source": [
    "# Clean '_id' columns by extracting '$oid'\n",
    "users_df['_id'] = users_df['_id'].apply(lambda x: x.get('$oid') if isinstance(x, dict) else x)\n",
    "receipts_df['_id'] = receipts_df['_id'].apply(lambda x: x.get('$oid') if isinstance(x, dict) else x)\n",
    "brands_df['_id'] = brands_df['_id'].apply(lambda x: x.get('$oid') if isinstance(x, dict) else x)\n",
    "\n",
    "# Convert date fields from UNIX epoch format to datetime (timezone-aware)\n",
    "users_df['createdDate'] = users_df['createdDate'].apply(lambda x: datetime.fromtimestamp(x['$date'] / 1000, tz=timezone.utc) if isinstance(x, dict) else x)\n",
    "users_df['lastLogin'] = users_df['lastLogin'].apply(lambda x: datetime.fromtimestamp(x['$date'] / 1000, tz=timezone.utc) if isinstance(x, dict) else x)\n",
    "receipts_df['createDate'] = receipts_df['createDate'].apply(lambda x: datetime.fromtimestamp(x['$date'] / 1000, tz=timezone.utc) if isinstance(x, dict) else x)"
   ]
  },
  {
   "cell_type": "code",
   "execution_count": 127,
   "id": "e83aa364-f1cf-4829-87e8-bfbaa10d7928",
   "metadata": {},
   "outputs": [],
   "source": [
    "# Flatten the 'rewardsReceiptItemList' by converting it to JSON strings\n",
    "receipts_df['rewardsReceiptItemList'] = receipts_df['rewardsReceiptItemList'].apply(lambda x: json.dumps(x) if isinstance(x, list) else x)"
   ]
  },
  {
   "cell_type": "code",
   "execution_count": 129,
   "id": "321f6460-267f-475e-a984-40066fdb35dd",
   "metadata": {},
   "outputs": [],
   "source": [
    "# Handle other date fields in receipts_df\n",
    "date_fields = ['dateScanned', 'finishedDate', 'modifyDate', 'pointsAwardedDate', 'purchaseDate']\n",
    "for field in date_fields:\n",
    "    receipts_df[field] = receipts_df[field].apply(lambda x: datetime.fromtimestamp(x['$date'] / 1000, tz=timezone.utc) if isinstance(x, dict) else x)"
   ]
  },
  {
   "cell_type": "code",
   "execution_count": 131,
   "id": "f60de474-8493-4d58-9b62-389be43127ac",
   "metadata": {},
   "outputs": [],
   "source": [
    "#Serialize the 'cpg' column to a JSON string\n",
    "brands_df['cpg'] = brands_df['cpg'].apply(lambda x: json.dumps(x) if isinstance(x, dict) else x)"
   ]
  },
  {
   "cell_type": "code",
   "execution_count": 133,
   "id": "38d34bab-1f1a-4a56-b08e-15d197bf71d4",
   "metadata": {},
   "outputs": [],
   "source": [
    "# Renaming _id to respective column names\n",
    "users_df.rename(columns={'_id': 'user_id'}, inplace=True)\n",
    "receipts_df.rename(columns={'_id': 'receipt_id'}, inplace=True)\n",
    "brands_df.rename(columns={'_id': 'brand_id'}, inplace=True)"
   ]
  },
  {
   "cell_type": "markdown",
   "id": "a7b91a5f-7a51-4b05-8c58-0b7aee8ba387",
   "metadata": {},
   "source": [
    "#### Step 2 - Creating an SQLAlchemy Engine"
   ]
  },
  {
   "cell_type": "code",
   "execution_count": 139,
   "id": "80a5419d-e501-4014-bccc-f4adb92cdfe9",
   "metadata": {},
   "outputs": [],
   "source": [
    "# Create an in-memory SQLite database\n",
    "engine = create_engine('sqlite:///my_database.db', echo=True)"
   ]
  },
  {
   "cell_type": "code",
   "execution_count": 141,
   "id": "45d264ea-f89f-4e30-ac62-a811b3c8d2fc",
   "metadata": {},
   "outputs": [],
   "source": [
    "# Define metadata to keep track of the table schemas\n",
    "metadata = MetaData()"
   ]
  },
  {
   "cell_type": "markdown",
   "id": "d88e3044-0053-4cee-a3c0-adbc6f32f116",
   "metadata": {},
   "source": [
    "### Step 3 Defining Tables"
   ]
  },
  {
   "cell_type": "code",
   "execution_count": 143,
   "id": "9615bd71-8571-4547-ac5e-033f2f0ea7b6",
   "metadata": {},
   "outputs": [
    {
     "name": "stdout",
     "output_type": "stream",
     "text": [
      "2024-10-30 00:24:03,599 INFO sqlalchemy.engine.Engine BEGIN (implicit)\n",
      "2024-10-30 00:24:03,601 INFO sqlalchemy.engine.Engine PRAGMA main.table_info(\"users\")\n",
      "2024-10-30 00:24:03,602 INFO sqlalchemy.engine.Engine [raw sql] ()\n",
      "2024-10-30 00:24:03,604 INFO sqlalchemy.engine.Engine PRAGMA main.table_info(\"receipts\")\n",
      "2024-10-30 00:24:03,605 INFO sqlalchemy.engine.Engine [raw sql] ()\n",
      "2024-10-30 00:24:03,607 INFO sqlalchemy.engine.Engine PRAGMA main.table_info(\"brands\")\n",
      "2024-10-30 00:24:03,609 INFO sqlalchemy.engine.Engine [raw sql] ()\n",
      "2024-10-30 00:24:03,611 INFO sqlalchemy.engine.Engine PRAGMA main.table_info(\"items\")\n",
      "2024-10-30 00:24:03,612 INFO sqlalchemy.engine.Engine [raw sql] ()\n",
      "2024-10-30 00:24:03,614 INFO sqlalchemy.engine.Engine PRAGMA temp.table_info(\"items\")\n",
      "2024-10-30 00:24:03,615 INFO sqlalchemy.engine.Engine [raw sql] ()\n",
      "2024-10-30 00:24:03,621 INFO sqlalchemy.engine.Engine \n",
      "CREATE TABLE items (\n",
      "\t\"itemId\" INTEGER NOT NULL, \n",
      "\t\"receiptId\" VARCHAR NOT NULL, \n",
      "\tbarcode VARCHAR, \n",
      "\tdescription VARCHAR, \n",
      "\t\"itemPrice\" FLOAT, \n",
      "\t\"finalPrice\" FLOAT, \n",
      "\t\"quantityPurchased\" INTEGER, \n",
      "\tPRIMARY KEY (\"itemId\"), \n",
      "\tFOREIGN KEY(\"receiptId\") REFERENCES receipts (receipt_id), \n",
      "\tFOREIGN KEY(barcode) REFERENCES brands (barcode)\n",
      ")\n",
      "\n",
      "\n",
      "2024-10-30 00:24:03,622 INFO sqlalchemy.engine.Engine [no key 0.00191s] ()\n",
      "2024-10-30 00:24:03,707 INFO sqlalchemy.engine.Engine COMMIT\n"
     ]
    }
   ],
   "source": [
    "# Define the users table\n",
    "users_table = Table(\n",
    "    'users', metadata,\n",
    "    Column('user_id', String, primary_key=True),\n",
    "    Column('active', Integer),\n",
    "    Column('createdDate', String),\n",
    "    Column('lastLogin', String),\n",
    "    Column('role', String),\n",
    "    Column('state', String),\n",
    "    Column('signUpSource', String)\n",
    ")\n",
    "\n",
    "# Define the receipts table\n",
    "receipts_table = Table(\n",
    "    'receipts', metadata,\n",
    "    Column('receipt_id', String, primary_key=True),\n",
    "    Column('userId', String, ForeignKey('users.user_id')),\n",
    "    Column('pointsEarned', Float),\n",
    "    Column('bonusPointsEarned', Float),\n",
    "    Column('bonusPointsEarnedReason', String),\n",
    "    Column('createDate', String),\n",
    "    Column('dateScanned', String),\n",
    "    Column('finishedDate', String),\n",
    "    Column('modifyDate', String),\n",
    "    Column('pointsAwardedDate', String),\n",
    "    Column('purchaseDate', String),\n",
    "    Column('purchasedItemCount', Float),\n",
    "    Column('rewardsReceiptItemList', String),\n",
    "    Column('rewardsReceiptStatus', String),\n",
    "    Column('totalSpent', Float)\n",
    ")\n",
    "\n",
    "# Define the brands table\n",
    "brands_table = Table(\n",
    "    'brands', metadata,\n",
    "    Column('brand_id', String, primary_key=True),\n",
    "    Column('barcode', String),\n",
    "    Column('category', String),\n",
    "    Column('categoryCode', String),\n",
    "    Column('cpg', String),\n",
    "    Column('name', String),\n",
    "    Column('topBrand', Float),\n",
    "    Column('brandCode', String)\n",
    ")\n",
    "\n",
    "# Define the items table\n",
    "items_table = Table(\n",
    "    'items', metadata,\n",
    "    Column('itemId', Integer, primary_key=True, autoincrement=True),\n",
    "    Column('receiptId', String, ForeignKey('receipts.receipt_id'), nullable=False),\n",
    "    Column('barcode', String, ForeignKey('brands.barcode'), nullable=True),\n",
    "    Column('description', String),\n",
    "    Column('itemPrice', Float),\n",
    "    Column('finalPrice', Float),\n",
    "    Column('quantityPurchased', Integer)\n",
    ")\n",
    "\n",
    "# Create all tables in the SQLite database\n",
    "metadata.create_all(engine)"
   ]
  },
  {
   "cell_type": "markdown",
   "id": "aed164a0-8ff9-4d19-a599-007042410a18",
   "metadata": {},
   "source": [
    "#### Step 4 - Insert DataFrames into SQL Tables"
   ]
  },
  {
   "cell_type": "code",
   "execution_count": 146,
   "id": "400401c0-8209-474e-9db4-be55834c5537",
   "metadata": {},
   "outputs": [
    {
     "name": "stdout",
     "output_type": "stream",
     "text": [
      "2024-10-30 00:25:37,851 INFO sqlalchemy.engine.Engine BEGIN (implicit)\n",
      "2024-10-30 00:25:37,856 INFO sqlalchemy.engine.Engine PRAGMA main.table_info(\"users\")\n",
      "2024-10-30 00:25:37,857 INFO sqlalchemy.engine.Engine [raw sql] ()\n",
      "2024-10-30 00:25:37,858 INFO sqlalchemy.engine.Engine PRAGMA main.table_info(\"users\")\n",
      "2024-10-30 00:25:37,858 INFO sqlalchemy.engine.Engine [raw sql] ()\n",
      "2024-10-30 00:25:37,859 INFO sqlalchemy.engine.Engine SELECT name FROM sqlite_master WHERE type='table' AND name NOT LIKE 'sqlite~_%' ESCAPE '~' ORDER BY name\n",
      "2024-10-30 00:25:37,859 INFO sqlalchemy.engine.Engine [raw sql] ()\n",
      "2024-10-30 00:25:37,860 INFO sqlalchemy.engine.Engine SELECT name FROM sqlite_master WHERE type='view' AND name NOT LIKE 'sqlite~_%' ESCAPE '~' ORDER BY name\n",
      "2024-10-30 00:25:37,861 INFO sqlalchemy.engine.Engine [raw sql] ()\n",
      "2024-10-30 00:25:37,861 INFO sqlalchemy.engine.Engine PRAGMA main.table_xinfo(\"users\")\n",
      "2024-10-30 00:25:37,861 INFO sqlalchemy.engine.Engine [raw sql] ()\n",
      "2024-10-30 00:25:37,862 INFO sqlalchemy.engine.Engine SELECT sql FROM  (SELECT * FROM sqlite_master UNION ALL   SELECT * FROM sqlite_temp_master) WHERE name = ? AND type in ('table', 'view')\n",
      "2024-10-30 00:25:37,862 INFO sqlalchemy.engine.Engine [raw sql] ('users',)\n",
      "2024-10-30 00:25:37,863 INFO sqlalchemy.engine.Engine PRAGMA main.foreign_key_list(\"users\")\n",
      "2024-10-30 00:25:37,863 INFO sqlalchemy.engine.Engine [raw sql] ()\n",
      "2024-10-30 00:25:37,863 INFO sqlalchemy.engine.Engine PRAGMA temp.foreign_key_list(\"users\")\n",
      "2024-10-30 00:25:37,864 INFO sqlalchemy.engine.Engine [raw sql] ()\n",
      "2024-10-30 00:25:37,864 INFO sqlalchemy.engine.Engine SELECT sql FROM  (SELECT * FROM sqlite_master UNION ALL   SELECT * FROM sqlite_temp_master) WHERE name = ? AND type in ('table', 'view')\n",
      "2024-10-30 00:25:37,864 INFO sqlalchemy.engine.Engine [raw sql] ('users',)\n",
      "2024-10-30 00:25:37,865 INFO sqlalchemy.engine.Engine PRAGMA main.index_list(\"users\")\n",
      "2024-10-30 00:25:37,865 INFO sqlalchemy.engine.Engine [raw sql] ()\n",
      "2024-10-30 00:25:37,868 INFO sqlalchemy.engine.Engine PRAGMA temp.index_list(\"users\")\n",
      "2024-10-30 00:25:37,868 INFO sqlalchemy.engine.Engine [raw sql] ()\n",
      "2024-10-30 00:25:37,869 INFO sqlalchemy.engine.Engine PRAGMA main.table_info(\"users\")\n",
      "2024-10-30 00:25:37,870 INFO sqlalchemy.engine.Engine [raw sql] ()\n",
      "2024-10-30 00:25:37,871 INFO sqlalchemy.engine.Engine PRAGMA main.index_list(\"users\")\n",
      "2024-10-30 00:25:37,871 INFO sqlalchemy.engine.Engine [raw sql] ()\n",
      "2024-10-30 00:25:37,872 INFO sqlalchemy.engine.Engine PRAGMA temp.index_list(\"users\")\n",
      "2024-10-30 00:25:37,873 INFO sqlalchemy.engine.Engine [raw sql] ()\n",
      "2024-10-30 00:25:37,874 INFO sqlalchemy.engine.Engine PRAGMA main.table_info(\"users\")\n",
      "2024-10-30 00:25:37,874 INFO sqlalchemy.engine.Engine [raw sql] ()\n",
      "2024-10-30 00:25:37,875 INFO sqlalchemy.engine.Engine SELECT sql FROM  (SELECT * FROM sqlite_master UNION ALL   SELECT * FROM sqlite_temp_master) WHERE name = ? AND type in ('table', 'view')\n",
      "2024-10-30 00:25:37,876 INFO sqlalchemy.engine.Engine [raw sql] ('users',)\n",
      "2024-10-30 00:25:37,877 INFO sqlalchemy.engine.Engine \n",
      "DROP TABLE users\n",
      "2024-10-30 00:25:37,878 INFO sqlalchemy.engine.Engine [no key 0.00039s] ()\n",
      "2024-10-30 00:25:37,896 INFO sqlalchemy.engine.Engine \n",
      "CREATE TABLE users (\n",
      "\tuser_id TEXT, \n",
      "\tactive BOOLEAN, \n",
      "\t\"createdDate\" TIMESTAMP, \n",
      "\t\"lastLogin\" TIMESTAMP, \n",
      "\trole TEXT, \n",
      "\t\"signUpSource\" TEXT, \n",
      "\tstate TEXT\n",
      ")\n",
      "\n",
      "\n",
      "2024-10-30 00:25:37,897 INFO sqlalchemy.engine.Engine [no key 0.00062s] ()\n",
      "2024-10-30 00:25:37,999 INFO sqlalchemy.engine.Engine INSERT INTO users (user_id, active, \"createdDate\", \"lastLogin\", role, \"signUpSource\", state) VALUES (?, ?, ?, ?, ?, ?, ?)\n",
      "2024-10-30 00:25:38,001 INFO sqlalchemy.engine.Engine [generated in 0.00954s] [('5ff1e194b6a9d73a3a9f1052', 1, '2021-01-03 15:24:04.800000', '2021-01-03 15:25:37.858000', 'consumer', 'Email', 'WI'), ('5ff1e194b6a9d73a3a9f1052', 1, '2021-01-03 15:24:04.800000', '2021-01-03 15:25:37.858000', 'consumer', 'Email', 'WI'), ('5ff1e194b6a9d73a3a9f1052', 1, '2021-01-03 15:24:04.800000', '2021-01-03 15:25:37.858000', 'consumer', 'Email', 'WI'), ('5ff1e1eacfcf6c399c274ae6', 1, '2021-01-03 15:25:30.554000', '2021-01-03 15:25:30.597000', 'consumer', 'Email', 'WI'), ('5ff1e194b6a9d73a3a9f1052', 1, '2021-01-03 15:24:04.800000', '2021-01-03 15:25:37.858000', 'consumer', 'Email', 'WI'), ('5ff1e194b6a9d73a3a9f1052', 1, '2021-01-03 15:24:04.800000', '2021-01-03 15:25:37.858000', 'consumer', 'Email', 'WI'), ('5ff1e1e8cfcf6c399c274ad9', 1, '2021-01-03 15:25:28.354000', '2021-01-03 15:25:28.392000', 'consumer', 'Email', 'WI'), ('5ff1e1b7cfcf6c399c274a5a', 1, '2021-01-03 15:24:39.626000', '2021-01-03 15:24:39.665000', 'consumer', 'Email', 'WI')  ... displaying 10 of 495 total bound parameter sets ...  ('54943462e4b07e684157a532', 1, '2014-12-19 14:21:22.381000', '2021-03-05 16:52:23.204000', 'fetch-staff', None, None), ('54943462e4b07e684157a532', 1, '2014-12-19 14:21:22.381000', '2021-03-05 16:52:23.204000', 'fetch-staff', None, None)]\n",
      "2024-10-30 00:25:38,009 INFO sqlalchemy.engine.Engine COMMIT\n",
      "2024-10-30 00:25:38,015 INFO sqlalchemy.engine.Engine BEGIN (implicit)\n",
      "2024-10-30 00:25:38,033 INFO sqlalchemy.engine.Engine PRAGMA main.table_info(\"receipts\")\n",
      "2024-10-30 00:25:38,035 INFO sqlalchemy.engine.Engine [raw sql] ()\n",
      "2024-10-30 00:25:38,037 INFO sqlalchemy.engine.Engine PRAGMA main.table_info(\"receipts\")\n",
      "2024-10-30 00:25:38,038 INFO sqlalchemy.engine.Engine [raw sql] ()\n",
      "2024-10-30 00:25:38,040 INFO sqlalchemy.engine.Engine SELECT name FROM sqlite_master WHERE type='table' AND name NOT LIKE 'sqlite~_%' ESCAPE '~' ORDER BY name\n",
      "2024-10-30 00:25:38,040 INFO sqlalchemy.engine.Engine [raw sql] ()\n",
      "2024-10-30 00:25:38,042 INFO sqlalchemy.engine.Engine SELECT name FROM sqlite_master WHERE type='view' AND name NOT LIKE 'sqlite~_%' ESCAPE '~' ORDER BY name\n",
      "2024-10-30 00:25:38,043 INFO sqlalchemy.engine.Engine [raw sql] ()\n",
      "2024-10-30 00:25:38,044 INFO sqlalchemy.engine.Engine PRAGMA main.table_xinfo(\"receipts\")\n",
      "2024-10-30 00:25:38,045 INFO sqlalchemy.engine.Engine [raw sql] ()\n",
      "2024-10-30 00:25:38,046 INFO sqlalchemy.engine.Engine SELECT sql FROM  (SELECT * FROM sqlite_master UNION ALL   SELECT * FROM sqlite_temp_master) WHERE name = ? AND type in ('table', 'view')\n",
      "2024-10-30 00:25:38,047 INFO sqlalchemy.engine.Engine [raw sql] ('receipts',)\n",
      "2024-10-30 00:25:38,048 INFO sqlalchemy.engine.Engine PRAGMA main.foreign_key_list(\"receipts\")\n",
      "2024-10-30 00:25:38,048 INFO sqlalchemy.engine.Engine [raw sql] ()\n",
      "2024-10-30 00:25:38,049 INFO sqlalchemy.engine.Engine PRAGMA temp.foreign_key_list(\"receipts\")\n",
      "2024-10-30 00:25:38,049 INFO sqlalchemy.engine.Engine [raw sql] ()\n",
      "2024-10-30 00:25:38,050 INFO sqlalchemy.engine.Engine SELECT sql FROM  (SELECT * FROM sqlite_master UNION ALL   SELECT * FROM sqlite_temp_master) WHERE name = ? AND type in ('table', 'view')\n",
      "2024-10-30 00:25:38,050 INFO sqlalchemy.engine.Engine [raw sql] ('receipts',)\n",
      "2024-10-30 00:25:38,050 INFO sqlalchemy.engine.Engine PRAGMA main.index_list(\"receipts\")\n",
      "2024-10-30 00:25:38,050 INFO sqlalchemy.engine.Engine [raw sql] ()\n",
      "2024-10-30 00:25:38,051 INFO sqlalchemy.engine.Engine PRAGMA temp.index_list(\"receipts\")\n",
      "2024-10-30 00:25:38,051 INFO sqlalchemy.engine.Engine [raw sql] ()\n",
      "2024-10-30 00:25:38,052 INFO sqlalchemy.engine.Engine PRAGMA main.table_info(\"receipts\")\n",
      "2024-10-30 00:25:38,052 INFO sqlalchemy.engine.Engine [raw sql] ()\n",
      "2024-10-30 00:25:38,054 INFO sqlalchemy.engine.Engine PRAGMA main.index_list(\"receipts\")\n",
      "2024-10-30 00:25:38,054 INFO sqlalchemy.engine.Engine [raw sql] ()\n",
      "2024-10-30 00:25:38,055 INFO sqlalchemy.engine.Engine PRAGMA temp.index_list(\"receipts\")\n",
      "2024-10-30 00:25:38,055 INFO sqlalchemy.engine.Engine [raw sql] ()\n",
      "2024-10-30 00:25:38,056 INFO sqlalchemy.engine.Engine PRAGMA main.table_info(\"receipts\")\n",
      "2024-10-30 00:25:38,056 INFO sqlalchemy.engine.Engine [raw sql] ()\n",
      "2024-10-30 00:25:38,057 INFO sqlalchemy.engine.Engine SELECT sql FROM  (SELECT * FROM sqlite_master UNION ALL   SELECT * FROM sqlite_temp_master) WHERE name = ? AND type in ('table', 'view')\n",
      "2024-10-30 00:25:38,057 INFO sqlalchemy.engine.Engine [raw sql] ('receipts',)\n",
      "2024-10-30 00:25:38,059 INFO sqlalchemy.engine.Engine \n",
      "DROP TABLE receipts\n",
      "2024-10-30 00:25:38,060 INFO sqlalchemy.engine.Engine [no key 0.00087s] ()\n",
      "2024-10-30 00:25:38,125 INFO sqlalchemy.engine.Engine \n",
      "CREATE TABLE receipts (\n",
      "\treceipt_id TEXT, \n",
      "\t\"bonusPointsEarned\" FLOAT, \n",
      "\t\"bonusPointsEarnedReason\" TEXT, \n",
      "\t\"createDate\" TIMESTAMP, \n",
      "\t\"dateScanned\" TIMESTAMP, \n",
      "\t\"finishedDate\" TIMESTAMP, \n",
      "\t\"modifyDate\" TIMESTAMP, \n",
      "\t\"pointsAwardedDate\" TIMESTAMP, \n",
      "\t\"pointsEarned\" FLOAT, \n",
      "\t\"purchaseDate\" TIMESTAMP, \n",
      "\t\"purchasedItemCount\" FLOAT, \n",
      "\t\"rewardsReceiptItemList\" TEXT, \n",
      "\t\"rewardsReceiptStatus\" TEXT, \n",
      "\t\"totalSpent\" FLOAT, \n",
      "\t\"userId\" TEXT\n",
      ")\n",
      "\n",
      "\n",
      "2024-10-30 00:25:38,126 INFO sqlalchemy.engine.Engine [no key 0.00133s] ()\n",
      "2024-10-30 00:25:38,187 INFO sqlalchemy.engine.Engine INSERT INTO receipts (receipt_id, \"bonusPointsEarned\", \"bonusPointsEarnedReason\", \"createDate\", \"dateScanned\", \"finishedDate\", \"modifyDate\", \"pointsAwardedDate\", \"pointsEarned\", \"purchaseDate\", \"purchasedItemCount\", \"rewardsReceiptItemList\", \"rewardsReceiptStatus\", \"totalSpent\", \"userId\") VALUES (?, ?, ?, ?, ?, ?, ?, ?, ?, ?, ?, ?, ?, ?, ?)\n",
      "2024-10-30 00:25:38,188 INFO sqlalchemy.engine.Engine [generated in 0.02244s] [('5ff1e1eb0a720f0523000575', 500.0, 'Receipt number 2 completed, bonus point schedule DEFAULT (5cefdcacf3693e0b50e83a36)', '2021-01-03 15:25:31.000000', '2021-01-03 15:25:31.000000', '2021-01-03 15:25:31.000000', '2021-01-03 15:25:36.000000', '2021-01-03 15:25:31.000000', 500.0, '2021-01-03 00:00:00.000000', 5.0, '[{\"barcode\": \"4011\", \"description\": \"ITEM NOT FOUND\", \"finalPrice\": \"26.00\", \"itemPrice\": \"26.00\", \"needsFetchReview\": false, \"partnerItemId\": \"1\", \" ... (19 characters truncated) ... nts\": true, \"quantityPurchased\": 5, \"userFlaggedBarcode\": \"4011\", \"userFlaggedNewItem\": true, \"userFlaggedPrice\": \"26.00\", \"userFlaggedQuantity\": 5}]', 'FINISHED', 26.0, '5ff1e1eacfcf6c399c274ae6'), ('5ff1e1bb0a720f052300056b', 150.0, 'Receipt number 5 completed, bonus point schedule DEFAULT (5cefdcacf3693e0b50e83a36)', '2021-01-03 15:24:43.000000', '2021-01-03 15:24:43.000000', '2021-01-03 15:24:43.000000', '2021-01-03 15:24:48.000000', '2021-01-03 15:24:43.000000', 150.0, '2021-01-02 15:24:43.000000', 2.0, '[{\"barcode\": \"4011\", \"description\": \"ITEM NOT FOUND\", \"finalPrice\": \"1\", \"itemPrice\": \"1\", \"partnerItemId\": \"1\", \"quantityPurchased\": 1}, {\"barcode\": ... (572 characters truncated) ... : \"DORITOS TORTILLA CHIP SPICY SWEET CHILI REDUCED FAT BAG 1 OZ\", \"userFlaggedNewItem\": true, \"userFlaggedPrice\": \"10.00\", \"userFlaggedQuantity\": 1}]', 'FINISHED', 11.0, '5ff1e194b6a9d73a3a9f1052'), ('5ff1e1f10a720f052300057a', 5.0, 'All-receipts receipt bonus', '2021-01-03 15:25:37.000000', '2021-01-03 15:25:37.000000', None, '2021-01-03 15:25:42.000000', None, 5.0, '2021-01-03 00:00:00.000000', 1.0, '[{\"needsFetchReview\": false, \"partnerItemId\": \"1\", \"preventTargetGapPoints\": true, \"userFlaggedBarcode\": \"4011\", \"userFlaggedNewItem\": true, \"userFlaggedPrice\": \"26.00\", \"userFlaggedQuantity\": 3}]', 'REJECTED', 10.0, '5ff1e1f1cfcf6c399c274b0b'), ('5ff1e1ee0a7214ada100056f', 5.0, 'All-receipts receipt bonus', '2021-01-03 15:25:34.000000', '2021-01-03 15:25:34.000000', '2021-01-03 15:25:34.000000', '2021-01-03 15:25:39.000000', '2021-01-03 15:25:34.000000', 5.0, '2021-01-03 00:00:00.000000', 4.0, '[{\"barcode\": \"4011\", \"description\": \"ITEM NOT FOUND\", \"finalPrice\": \"28.00\", \"itemPrice\": \"28.00\", \"needsFetchReview\": false, \"partnerItemId\": \"1\", \" ... (19 characters truncated) ... nts\": true, \"quantityPurchased\": 4, \"userFlaggedBarcode\": \"4011\", \"userFlaggedNewItem\": true, \"userFlaggedPrice\": \"28.00\", \"userFlaggedQuantity\": 4}]', 'FINISHED', 28.0, '5ff1e1eacfcf6c399c274ae6'), ('5ff1e1d20a7214ada1000561', 5.0, 'All-receipts receipt bonus', '2021-01-03 15:25:06.000000', '2021-01-03 15:25:06.000000', '2021-01-03 15:25:11.000000', '2021-01-03 15:25:11.000000', '2021-01-03 15:25:06.000000', 5.0, '2021-01-02 15:25:06.000000', 2.0, '[{\"barcode\": \"4011\", \"description\": \"ITEM NOT FOUND\", \"finalPrice\": \"1\", \"itemPrice\": \"1\", \"partnerItemId\": \"1\", \"quantityPurchased\": 1}, {\"barcode\": ... (191 characters truncated) ... d\": 3, \"userFlaggedBarcode\": \"1234\", \"userFlaggedDescription\": \"\", \"userFlaggedNewItem\": true, \"userFlaggedPrice\": \"2.56\", \"userFlaggedQuantity\": 3}]', 'FINISHED', 1.0, '5ff1e194b6a9d73a3a9f1052'), ('5ff1e1e40a7214ada1000566', 750.0, 'Receipt number 1 completed, bonus point schedule DEFAULT (5cefdcacf3693e0b50e83a36)', '2021-01-03 15:25:24.000000', '2021-01-03 15:25:24.000000', '2021-01-03 15:25:25.000000', '2021-01-03 15:25:30.000000', '2021-01-03 15:25:25.000000', 750.0, '2021-01-02 15:25:24.000000', 1.0, '[{\"barcode\": \"4011\", \"description\": \"ITEM NOT FOUND\", \"finalPrice\": \"3.25\", \"itemPrice\": \"3.25\", \"needsFetchReview\": false, \"originalMetaBriteBarcode ... (297 characters truncated) ... \": 1, \"rewardsGroup\": \"DORITOS SPICY SWEET CHILI SINGLE SERVE\", \"rewardsProductPartnerId\": \"5332f5fbe4b03c9a25efd0ba\", \"userFlaggedBarcode\": \"4011\"}]', 'FINISHED', 3.25, '5ff1e1e4cfcf6c399c274ac3'), ('5ff1e1cd0a720f052300056f', 5.0, 'All-receipts receipt bonus', '2021-01-03 15:25:01.000000', '2021-01-03 15:25:01.000000', '2021-01-03 15:25:02.000000', '2021-01-03 15:25:02.000000', '2021-01-03 15:25:02.000000', 5.0, '2021-01-03 15:25:01.000000', 1.0, '[{\"brandCode\": \"MISSION\", \"competitorRewardsGroup\": \"TACO BELL TACO SHELLS\", \"description\": \"MSSN TORTLLA\", \"discountedItemPrice\": \"2.23\", \"finalPrice\": \"2.23\", \"itemPrice\": \"2.23\", \"originalReceiptItemText\": \"MSSN TORTLLA\", \"partnerItemId\": \"1009\", \"quantityPurchased\": 1}]', 'FINISHED', 2.23, '5ff1e194b6a9d73a3a9f1052'), ('5ff1e1a40a720f0523000569', 500.0, 'Receipt number 2 completed, bonus point schedule DEFAULT (5cefdcacf3693e0b50e83a36)', '2021-01-03 15:24:20.000000', '2021-01-03 15:24:20.000000', '2021-01-03 15:24:21.000000', '2021-01-03 15:24:21.000000', '2021-01-03 15:24:21.000000', 500.0, '2020-12-27 00:00:00.000000', 1.0, '[{\"barcode\": \"046000832517\", \"brandCode\": \"BRAND\", \"description\": \"Old El Paso Mild Chopped Green Chiles, 4.5 Oz\", \"finalPrice\": \"10.00\", \"itemPrice\" ... (120 characters truncated) ... f5f3e4b03c9a25efd0ae\", \"quantityPurchased\": 1, \"rewardsGroup\": \"OLD EL PASO BEANS & PEPPERS\", \"rewardsProductPartnerId\": \"5332f5f3e4b03c9a25efd0ae\"}]', 'FINISHED', 10.0, '5ff1e194b6a9d73a3a9f1052')  ... displaying 10 of 1119 total bound parameter sets ...  ('603ce7100a7217c72c000405', 25.0, 'COMPLETE_NONPARTNER_RECEIPT', '2021-03-01 13:07:28.000000', '2021-03-01 13:07:28.000000', None, '2021-03-01 13:07:29.000000', None, 25.0, '2020-08-17 00:00:00.000000', 2.0, '[{\"barcode\": \"B076FJ92M4\", \"description\": \"mueller austria hypergrind precision electric spice/coffee grinder millwith large grinding capacity and hd ... (622 characters truncated) ... ust summer face mask - sun protection neck gaiter for outdooractivities\", \"partnerItemId\": \"1\", \"priceAfterCoupon\": \"11.99\", \"quantityPurchased\": 1}]', 'REJECTED', 34.96, '5fc961c3b8cfca11a077dd33'), ('603c4fea0a7217c72c000389', None, None, '2021-03-01 02:22:34.962000', '2021-03-01 02:22:34.962000', None, '2021-03-01 02:22:34.962000', None, None, None, None, None, 'SUBMITTED', None, '5fc961c3b8cfca11a077dd33')]\n",
      "2024-10-30 00:25:38,203 INFO sqlalchemy.engine.Engine COMMIT\n",
      "2024-10-30 00:25:38,210 INFO sqlalchemy.engine.Engine BEGIN (implicit)\n",
      "2024-10-30 00:25:38,214 INFO sqlalchemy.engine.Engine PRAGMA main.table_info(\"brands\")\n",
      "2024-10-30 00:25:38,216 INFO sqlalchemy.engine.Engine [raw sql] ()\n",
      "2024-10-30 00:25:38,222 INFO sqlalchemy.engine.Engine PRAGMA main.table_info(\"brands\")\n",
      "2024-10-30 00:25:38,223 INFO sqlalchemy.engine.Engine [raw sql] ()\n",
      "2024-10-30 00:25:38,224 INFO sqlalchemy.engine.Engine SELECT name FROM sqlite_master WHERE type='table' AND name NOT LIKE 'sqlite~_%' ESCAPE '~' ORDER BY name\n",
      "2024-10-30 00:25:38,224 INFO sqlalchemy.engine.Engine [raw sql] ()\n",
      "2024-10-30 00:25:38,225 INFO sqlalchemy.engine.Engine SELECT name FROM sqlite_master WHERE type='view' AND name NOT LIKE 'sqlite~_%' ESCAPE '~' ORDER BY name\n",
      "2024-10-30 00:25:38,225 INFO sqlalchemy.engine.Engine [raw sql] ()\n",
      "2024-10-30 00:25:38,226 INFO sqlalchemy.engine.Engine PRAGMA main.table_xinfo(\"brands\")\n",
      "2024-10-30 00:25:38,227 INFO sqlalchemy.engine.Engine [raw sql] ()\n",
      "2024-10-30 00:25:38,228 INFO sqlalchemy.engine.Engine SELECT sql FROM  (SELECT * FROM sqlite_master UNION ALL   SELECT * FROM sqlite_temp_master) WHERE name = ? AND type in ('table', 'view')\n",
      "2024-10-30 00:25:38,228 INFO sqlalchemy.engine.Engine [raw sql] ('brands',)\n",
      "2024-10-30 00:25:38,230 INFO sqlalchemy.engine.Engine PRAGMA main.foreign_key_list(\"brands\")\n",
      "2024-10-30 00:25:38,231 INFO sqlalchemy.engine.Engine [raw sql] ()\n",
      "2024-10-30 00:25:38,234 INFO sqlalchemy.engine.Engine PRAGMA temp.foreign_key_list(\"brands\")\n",
      "2024-10-30 00:25:38,235 INFO sqlalchemy.engine.Engine [raw sql] ()\n",
      "2024-10-30 00:25:38,235 INFO sqlalchemy.engine.Engine SELECT sql FROM  (SELECT * FROM sqlite_master UNION ALL   SELECT * FROM sqlite_temp_master) WHERE name = ? AND type in ('table', 'view')\n",
      "2024-10-30 00:25:38,236 INFO sqlalchemy.engine.Engine [raw sql] ('brands',)\n",
      "2024-10-30 00:25:38,236 INFO sqlalchemy.engine.Engine PRAGMA main.index_list(\"brands\")\n",
      "2024-10-30 00:25:38,237 INFO sqlalchemy.engine.Engine [raw sql] ()\n",
      "2024-10-30 00:25:38,238 INFO sqlalchemy.engine.Engine PRAGMA temp.index_list(\"brands\")\n",
      "2024-10-30 00:25:38,239 INFO sqlalchemy.engine.Engine [raw sql] ()\n",
      "2024-10-30 00:25:38,239 INFO sqlalchemy.engine.Engine PRAGMA main.table_info(\"brands\")\n",
      "2024-10-30 00:25:38,240 INFO sqlalchemy.engine.Engine [raw sql] ()\n",
      "2024-10-30 00:25:38,251 INFO sqlalchemy.engine.Engine PRAGMA main.index_list(\"brands\")\n",
      "2024-10-30 00:25:38,252 INFO sqlalchemy.engine.Engine [raw sql] ()\n",
      "2024-10-30 00:25:38,252 INFO sqlalchemy.engine.Engine PRAGMA temp.index_list(\"brands\")\n",
      "2024-10-30 00:25:38,252 INFO sqlalchemy.engine.Engine [raw sql] ()\n",
      "2024-10-30 00:25:38,253 INFO sqlalchemy.engine.Engine PRAGMA main.table_info(\"brands\")\n",
      "2024-10-30 00:25:38,253 INFO sqlalchemy.engine.Engine [raw sql] ()\n",
      "2024-10-30 00:25:38,253 INFO sqlalchemy.engine.Engine SELECT sql FROM  (SELECT * FROM sqlite_master UNION ALL   SELECT * FROM sqlite_temp_master) WHERE name = ? AND type in ('table', 'view')\n",
      "2024-10-30 00:25:38,253 INFO sqlalchemy.engine.Engine [raw sql] ('brands',)\n",
      "2024-10-30 00:25:38,254 INFO sqlalchemy.engine.Engine \n",
      "DROP TABLE brands\n",
      "2024-10-30 00:25:38,255 INFO sqlalchemy.engine.Engine [no key 0.00050s] ()\n",
      "2024-10-30 00:25:38,288 INFO sqlalchemy.engine.Engine \n",
      "CREATE TABLE brands (\n",
      "\tbrand_id TEXT, \n",
      "\tbarcode BIGINT, \n",
      "\tcategory TEXT, \n",
      "\t\"categoryCode\" TEXT, \n",
      "\tcpg TEXT, \n",
      "\tname TEXT, \n",
      "\t\"topBrand\" FLOAT, \n",
      "\t\"brandCode\" TEXT\n",
      ")\n",
      "\n",
      "\n",
      "2024-10-30 00:25:38,289 INFO sqlalchemy.engine.Engine [no key 0.00094s] ()\n",
      "2024-10-30 00:25:38,304 INFO sqlalchemy.engine.Engine INSERT INTO brands (brand_id, barcode, category, \"categoryCode\", cpg, name, \"topBrand\", \"brandCode\") VALUES (?, ?, ?, ?, ?, ?, ?, ?)\n",
      "2024-10-30 00:25:38,305 INFO sqlalchemy.engine.Engine [generated in 0.00290s] [('601ac115be37ce2ead437551', 511111019862, 'Baking', 'BAKING', '{\"$id\": {\"$oid\": \"601ac114be37ce2ead437550\"}, \"$ref\": \"Cogs\"}', 'test brand @1612366101024', 0.0, None), ('601c5460be37ce2ead43755f', 511111519928, 'Beverages', 'BEVERAGES', '{\"$id\": {\"$oid\": \"5332f5fbe4b03c9a25efd0ba\"}, \"$ref\": \"Cogs\"}', 'Starbucks', 0.0, 'STARBUCKS'), ('601ac142be37ce2ead43755d', 511111819905, 'Baking', 'BAKING', '{\"$id\": {\"$oid\": \"601ac142be37ce2ead437559\"}, \"$ref\": \"Cogs\"}', 'test brand @1612366146176', 0.0, 'TEST BRANDCODE @1612366146176'), ('601ac142be37ce2ead43755a', 511111519874, 'Baking', 'BAKING', '{\"$id\": {\"$oid\": \"601ac142be37ce2ead437559\"}, \"$ref\": \"Cogs\"}', 'test brand @1612366146051', 0.0, 'TEST BRANDCODE @1612366146051'), ('601ac142be37ce2ead43755e', 511111319917, 'Candy & Sweets', 'CANDY_AND_SWEETS', '{\"$id\": {\"$oid\": \"5332fa12e4b03c9a25efd1e7\"}, \"$ref\": \"Cogs\"}', 'test brand @1612366146827', 0.0, 'TEST BRANDCODE @1612366146827'), ('601ac142be37ce2ead43755b', 511111719885, 'Baking', 'BAKING', '{\"$id\": {\"$oid\": \"601ac142be37ce2ead437559\"}, \"$ref\": \"Cogs\"}', 'test brand @1612366146091', 0.0, 'TEST BRANDCODE @1612366146091'), ('601ac142be37ce2ead43755c', 511111219897, 'Baking', 'BAKING', '{\"$id\": {\"$oid\": \"601ac142be37ce2ead437559\"}, \"$ref\": \"Cogs\"}', 'test brand @1612366146133', 0.0, 'TEST BRANDCODE @1612366146133'), ('5cdad0f5166eb33eb7ce0faa', 511111104810, 'Condiments & Sauces', None, '{\"$ref\": \"Cogs\", \"$id\": {\"$oid\": \"559c2234e4b06aca36af13c6\"}}', 'J.L. Kraft', None, 'J.L. KRAFT')  ... displaying 10 of 1167 total bound parameter sets ...  ('5a021611e4b00efe02b02a57', 511111400608, 'Grocery', None, '{\"$ref\": \"Cogs\", \"$id\": {\"$oid\": \"5332f5f6e4b03c9a25efd0b4\"}}', 'LIPTON TEA Leaves', 0.0, 'LIPTON TEA Leaves'), ('6026d757be37ce6369301468', 511111019930, 'Baking', 'BAKING', '{\"$id\": {\"$oid\": \"6026d757be37ce6369301467\"}, \"$ref\": \"Cogs\"}', 'test brand @1613158231643', 0.0, 'TEST BRANDCODE @1613158231644')]\n",
      "2024-10-30 00:25:38,311 INFO sqlalchemy.engine.Engine COMMIT\n"
     ]
    },
    {
     "data": {
      "text/plain": [
       "1167"
      ]
     },
     "execution_count": 146,
     "metadata": {},
     "output_type": "execute_result"
    }
   ],
   "source": [
    "# Insert users into the SQL table\n",
    "users_df.to_sql('users', con=engine, if_exists='replace', index=False)\n",
    "\n",
    "# Insert receipts into the SQL table\n",
    "receipts_df.to_sql('receipts', con=engine, if_exists='replace', index=False)\n",
    "\n",
    "# Insert brands into the SQL table\n",
    "brands_df.to_sql('brands', con=engine, if_exists='replace', index=False)\n"
   ]
  },
  {
   "cell_type": "markdown",
   "id": "ce276395-9019-4bfc-9bf8-969fd6c6f86a",
   "metadata": {},
   "source": [
    "### Extracting item details and inserting in item table"
   ]
  },
  {
   "cell_type": "code",
   "execution_count": 208,
   "id": "9f6926f7-eb69-42db-9ff2-9a9a3572f462",
   "metadata": {},
   "outputs": [
    {
     "name": "stdout",
     "output_type": "stream",
     "text": [
      "2024-10-30 01:23:45,223 INFO sqlalchemy.engine.Engine BEGIN (implicit)\n",
      "2024-10-30 01:23:45,229 INFO sqlalchemy.engine.Engine PRAGMA main.table_info(\"items\")\n",
      "2024-10-30 01:23:45,230 INFO sqlalchemy.engine.Engine [raw sql] ()\n",
      "2024-10-30 01:23:45,231 INFO sqlalchemy.engine.Engine PRAGMA main.table_info(\"items\")\n",
      "2024-10-30 01:23:45,231 INFO sqlalchemy.engine.Engine [raw sql] ()\n",
      "2024-10-30 01:23:45,232 INFO sqlalchemy.engine.Engine SELECT name FROM sqlite_master WHERE type='table' AND name NOT LIKE 'sqlite~_%' ESCAPE '~' ORDER BY name\n",
      "2024-10-30 01:23:45,232 INFO sqlalchemy.engine.Engine [raw sql] ()\n",
      "2024-10-30 01:23:45,235 INFO sqlalchemy.engine.Engine SELECT name FROM sqlite_master WHERE type='view' AND name NOT LIKE 'sqlite~_%' ESCAPE '~' ORDER BY name\n",
      "2024-10-30 01:23:45,235 INFO sqlalchemy.engine.Engine [raw sql] ()\n",
      "2024-10-30 01:23:45,239 INFO sqlalchemy.engine.Engine PRAGMA main.table_xinfo(\"items\")\n",
      "2024-10-30 01:23:45,239 INFO sqlalchemy.engine.Engine [raw sql] ()\n",
      "2024-10-30 01:23:45,241 INFO sqlalchemy.engine.Engine SELECT sql FROM  (SELECT * FROM sqlite_master UNION ALL   SELECT * FROM sqlite_temp_master) WHERE name = ? AND type in ('table', 'view')\n",
      "2024-10-30 01:23:45,241 INFO sqlalchemy.engine.Engine [raw sql] ('items',)\n",
      "2024-10-30 01:23:45,242 INFO sqlalchemy.engine.Engine PRAGMA main.foreign_key_list(\"items\")\n",
      "2024-10-30 01:23:45,242 INFO sqlalchemy.engine.Engine [raw sql] ()\n",
      "2024-10-30 01:23:45,242 INFO sqlalchemy.engine.Engine PRAGMA temp.foreign_key_list(\"items\")\n",
      "2024-10-30 01:23:45,243 INFO sqlalchemy.engine.Engine [raw sql] ()\n",
      "2024-10-30 01:23:45,243 INFO sqlalchemy.engine.Engine SELECT sql FROM  (SELECT * FROM sqlite_master UNION ALL   SELECT * FROM sqlite_temp_master) WHERE name = ? AND type in ('table', 'view')\n",
      "2024-10-30 01:23:45,243 INFO sqlalchemy.engine.Engine [raw sql] ('items',)\n",
      "2024-10-30 01:23:45,244 INFO sqlalchemy.engine.Engine PRAGMA main.index_list(\"items\")\n",
      "2024-10-30 01:23:45,244 INFO sqlalchemy.engine.Engine [raw sql] ()\n",
      "2024-10-30 01:23:45,245 INFO sqlalchemy.engine.Engine PRAGMA temp.index_list(\"items\")\n",
      "2024-10-30 01:23:45,245 INFO sqlalchemy.engine.Engine [raw sql] ()\n",
      "2024-10-30 01:23:45,246 INFO sqlalchemy.engine.Engine PRAGMA main.table_info(\"items\")\n",
      "2024-10-30 01:23:45,246 INFO sqlalchemy.engine.Engine [raw sql] ()\n",
      "2024-10-30 01:23:45,247 INFO sqlalchemy.engine.Engine PRAGMA main.index_list(\"items\")\n",
      "2024-10-30 01:23:45,247 INFO sqlalchemy.engine.Engine [raw sql] ()\n",
      "2024-10-30 01:23:45,248 INFO sqlalchemy.engine.Engine PRAGMA temp.index_list(\"items\")\n",
      "2024-10-30 01:23:45,248 INFO sqlalchemy.engine.Engine [raw sql] ()\n",
      "2024-10-30 01:23:45,249 INFO sqlalchemy.engine.Engine PRAGMA main.table_info(\"items\")\n",
      "2024-10-30 01:23:45,249 INFO sqlalchemy.engine.Engine [raw sql] ()\n",
      "2024-10-30 01:23:45,250 INFO sqlalchemy.engine.Engine SELECT sql FROM  (SELECT * FROM sqlite_master UNION ALL   SELECT * FROM sqlite_temp_master) WHERE name = ? AND type in ('table', 'view')\n",
      "2024-10-30 01:23:45,250 INFO sqlalchemy.engine.Engine [raw sql] ('items',)\n",
      "2024-10-30 01:23:45,252 INFO sqlalchemy.engine.Engine \n",
      "DROP TABLE items\n",
      "2024-10-30 01:23:45,252 INFO sqlalchemy.engine.Engine [no key 0.00058s] ()\n",
      "2024-10-30 01:23:45,270 INFO sqlalchemy.engine.Engine \n",
      "CREATE TABLE items (\n",
      "\t\"receiptId\" TEXT, \n",
      "\tbarcode TEXT, \n",
      "\tdescription TEXT, \n",
      "\t\"itemPrice\" TEXT, \n",
      "\t\"finalPrice\" TEXT, \n",
      "\t\"quantityPurchased\" FLOAT\n",
      ")\n",
      "\n",
      "\n",
      "2024-10-30 01:23:45,271 INFO sqlalchemy.engine.Engine [no key 0.00051s] ()\n",
      "2024-10-30 01:23:45,311 INFO sqlalchemy.engine.Engine INSERT INTO items (\"receiptId\", barcode, description, \"itemPrice\", \"finalPrice\", \"quantityPurchased\") VALUES (?, ?, ?, ?, ?, ?)\n",
      "2024-10-30 01:23:45,312 INFO sqlalchemy.engine.Engine [generated in 0.02097s] [('5ff1e1eb0a720f0523000575', '4011', 'ITEM NOT FOUND', '26.00', '26.00', 5.0), ('5ff1e1bb0a720f052300056b', '4011', 'ITEM NOT FOUND', '1', '1', 1.0), ('5ff1e1bb0a720f052300056b', '028400642255', 'DORITOS TORTILLA CHIP SPICY SWEET CHILI REDUCED FAT BAG 1 OZ', '10.00', '10.00', 1.0), ('5ff1e1f10a720f052300057a', None, None, None, None, None), ('5ff1e1ee0a7214ada100056f', '4011', 'ITEM NOT FOUND', '28.00', '28.00', 4.0), ('5ff1e1d20a7214ada1000561', '4011', 'ITEM NOT FOUND', '1', '1', 1.0), ('5ff1e1d20a7214ada1000561', '1234', None, '2.56', '2.56', 3.0), ('5ff1e1e40a7214ada1000566', '4011', 'ITEM NOT FOUND', '3.25', '3.25', 1.0)  ... displaying 10 of 6941 total bound parameter sets ...  ('603ce7100a7217c72c000405', 'B076FJ92M4', 'mueller austria hypergrind precision electric spice/coffee grinder millwith large grinding capacity and hd motor also for spices, herbs, nuts,grains, white', '22.97', '22.97', 1.0), ('603ce7100a7217c72c000405', 'B07BRRLSVC', 'thindust summer face mask - sun protection neck gaiter for outdooractivities', '11.99', '11.99', 1.0)]\n",
      "2024-10-30 01:23:45,331 INFO sqlalchemy.engine.Engine COMMIT\n"
     ]
    },
    {
     "data": {
      "text/plain": [
       "6941"
      ]
     },
     "execution_count": 208,
     "metadata": {},
     "output_type": "execute_result"
    }
   ],
   "source": [
    "#  Parse the 'rewardsReceiptItemList' JSON strings and extract item details\n",
    "items_data = []\n",
    "\n",
    "for _, row in receipts_df.iterrows():\n",
    "    receipt_id = row['receipt_id']\n",
    "    rewards_items = row['rewardsReceiptItemList']\n",
    "    if pd.notna(rewards_items):\n",
    "        items_list = json.loads(rewards_items)\n",
    "        for item in items_list:\n",
    "            # Extract item details if they exist in the JSON\n",
    "            barcode = item.get('barcode')\n",
    "            description = item.get('description')\n",
    "            item_price = item.get('itemPrice')\n",
    "            final_price = item.get('finalPrice')\n",
    "            quantity_purchased = item.get('quantityPurchased')\n",
    "            \n",
    "            # Append the extracted item details to the list\n",
    "            items_data.append({\n",
    "                'receiptId': receipt_id,\n",
    "                'barcode': barcode,\n",
    "                'description': description,\n",
    "                'itemPrice': item_price,\n",
    "                'finalPrice': final_price,\n",
    "                'quantityPurchased': quantity_purchased\n",
    "            })\n",
    "\n",
    "# Step 2: Create a DataFrame for the 'items' table\n",
    "items_df = pd.DataFrame(items_data)\n",
    "\n",
    "# Step 3: Insert the items DataFrame into the 'items' SQL table\n",
    "items_df.to_sql('items', con=engine, if_exists='replace', index=False)"
   ]
  },
  {
   "cell_type": "markdown",
   "id": "8625fa74-11ea-4bf8-9324-65102c6c4e34",
   "metadata": {},
   "source": [
    "### Step 5 Running the Queries"
   ]
  },
  {
   "cell_type": "code",
   "execution_count": 215,
   "id": "9e133c66-48b6-4f50-8499-1e5703bbe51a",
   "metadata": {},
   "outputs": [],
   "source": [
    "from sqlalchemy import func, text\n",
    "from datetime import datetime, timedelta\n",
    "\n",
    "# Calculate date ranges for recent and previous month\n",
    "now = datetime.now()\n",
    "start_of_this_month = now.replace(day=1)\n",
    "start_of_last_month = (start_of_this_month - timedelta(days=1)).replace(day=1)\n",
    "end_of_last_month = start_of_this_month - timedelta(days=1)"
   ]
  },
  {
   "cell_type": "markdown",
   "id": "fa0a4f62-f005-4725-aaca-510e83a51e92",
   "metadata": {},
   "source": [
    "#### 1. What are the top 5 brands by receipts scanned for most recent month?"
   ]
  },
  {
   "cell_type": "code",
   "execution_count": 226,
   "id": "5a392810-2c24-491f-8bb3-d34dc1c44f02",
   "metadata": {},
   "outputs": [
    {
     "name": "stdout",
     "output_type": "stream",
     "text": [
      "2024-10-30 01:35:06,316 INFO sqlalchemy.engine.Engine BEGIN (implicit)\n",
      "2024-10-30 01:35:06,319 INFO sqlalchemy.engine.Engine \n",
      "        SELECT b.name, COUNT(r.receipt_id) AS receipt_count\n",
      "        FROM receipts r\n",
      "        JOIN items i ON r.receipt_id = i.receiptId\n",
      "        JOIN brands b ON i.barcode = b.barcode\n",
      "        WHERE r.createDate >= date('now', '-1 month')\n",
      "        GROUP BY b.name\n",
      "        ORDER BY receipt_count DESC\n",
      "        LIMIT 5;\n",
      "    \n",
      "2024-10-30 01:35:06,320 INFO sqlalchemy.engine.Engine [generated in 0.00407s] ()\n",
      "\n",
      "Top 5 Brands by Receipts Scanned for Most Recent Month:\n",
      "2024-10-30 01:35:06,324 INFO sqlalchemy.engine.Engine ROLLBACK\n"
     ]
    }
   ],
   "source": [
    "with engine.connect() as conn:\n",
    "    # 1. Top 5 brands by receipts scanned for the most recent month\n",
    "    top_5_brands_query = text(\"\"\"\n",
    "        SELECT b.name, COUNT(r.receipt_id) AS receipt_count\n",
    "        FROM receipts r\n",
    "        JOIN items i ON r.receipt_id = i.receiptId\n",
    "        JOIN brands b ON i.barcode = b.barcode\n",
    "        WHERE r.createDate >= date('now', '-1 month')\n",
    "        GROUP BY b.name\n",
    "        ORDER BY receipt_count DESC\n",
    "        LIMIT 5;\n",
    "    \"\"\")\n",
    "\n",
    "    try:\n",
    "        top_5_brands_result = conn.execute(top_5_brands_query).fetchall()\n",
    "        print(\"\\nTop 5 Brands by Receipts Scanned for Most Recent Month:\")\n",
    "        for row in top_5_brands_result:\n",
    "            print(row)\n",
    "    except Exception as e:\n",
    "        print(f\"An error occurred while fetching top 5 brands: {e}\")"
   ]
  },
  {
   "cell_type": "markdown",
   "id": "5594440a-1628-49cd-bac4-74e1966d23ee",
   "metadata": {},
   "source": [
    "#### 2. How does the ranking of the top 5 brands by receipts scanned for the recent month compare to the ranking for the previous month?"
   ]
  },
  {
   "cell_type": "code",
   "execution_count": 229,
   "id": "0d705d95-543b-4358-a335-48990b489509",
   "metadata": {},
   "outputs": [
    {
     "name": "stdout",
     "output_type": "stream",
     "text": [
      "2024-10-30 01:35:20,800 INFO sqlalchemy.engine.Engine BEGIN (implicit)\n",
      "2024-10-30 01:35:20,801 INFO sqlalchemy.engine.Engine \n",
      "        SELECT b.name, COUNT(r.receipt_id) AS receipt_count\n",
      "        FROM receipts r\n",
      "        JOIN items i ON r.receipt_id = i.receiptId\n",
      "        JOIN brands b ON i.barcode = b.barcode\n",
      "        WHERE r.createDate BETWEEN ? AND ?\n",
      "        GROUP BY b.name\n",
      "        ORDER BY receipt_count DESC\n",
      "        LIMIT 5;\n",
      "    \n",
      "2024-10-30 01:35:20,801 INFO sqlalchemy.engine.Engine [cached since 2636s ago] (datetime.datetime(2024, 10, 1, 1, 27, 30, 585509), datetime.datetime(2024, 10, 30, 1, 27, 30, 585509))\n",
      "2024-10-30 01:35:20,803 INFO sqlalchemy.engine.Engine \n",
      "        SELECT b.name, COUNT(r.receipt_id) AS receipt_count\n",
      "        FROM receipts r\n",
      "        JOIN items i ON r.receipt_id = i.receiptId\n",
      "        JOIN brands b ON i.barcode = b.barcode\n",
      "        WHERE r.createDate BETWEEN ? AND ?\n",
      "        GROUP BY b.name\n",
      "        ORDER BY receipt_count DESC\n",
      "        LIMIT 5;\n",
      "    \n",
      "2024-10-30 01:35:20,803 INFO sqlalchemy.engine.Engine [cached since 2636s ago] (datetime.datetime(2024, 9, 1, 1, 27, 30, 585509), datetime.datetime(2024, 9, 30, 1, 27, 30, 585509))\n",
      "Top 5 Brands for Recent Month:\n",
      "\n",
      "Top 5 Brands for Previous Month:\n",
      "2024-10-30 01:35:20,804 INFO sqlalchemy.engine.Engine ROLLBACK\n"
     ]
    }
   ],
   "source": [
    "with engine.connect() as conn:\n",
    "    # 2. Ranking comparison of top 5 brands by receipts scanned for recent and previous month\n",
    "    recent_month_query = text(\"\"\"\n",
    "        SELECT b.name, COUNT(r.receipt_id) AS receipt_count\n",
    "        FROM receipts r\n",
    "        JOIN items i ON r.receipt_id = i.receiptId\n",
    "        JOIN brands b ON i.barcode = b.barcode\n",
    "        WHERE r.createDate BETWEEN :start_of_this_month AND :now\n",
    "        GROUP BY b.name\n",
    "        ORDER BY receipt_count DESC\n",
    "        LIMIT 5;\n",
    "    \"\"\")\n",
    "\n",
    "    last_month_query = text(\"\"\"\n",
    "        SELECT b.name, COUNT(r.receipt_id) AS receipt_count\n",
    "        FROM receipts r\n",
    "        JOIN items i ON r.receipt_id = i.receiptId\n",
    "        JOIN brands b ON i.barcode = b.barcode\n",
    "        WHERE r.createDate BETWEEN :start_of_last_month AND :end_of_last_month\n",
    "        GROUP BY b.name\n",
    "        ORDER BY receipt_count DESC\n",
    "        LIMIT 5;\n",
    "    \"\"\")\n",
    "\n",
    "    # Execute queries for recent and previous month\n",
    "    recent_month_result = conn.execute(recent_month_query, {\n",
    "        'start_of_this_month': start_of_this_month, \n",
    "        'now': now\n",
    "    }).fetchall()\n",
    "    last_month_result = conn.execute(last_month_query, {\n",
    "        'start_of_last_month': start_of_last_month, \n",
    "        'end_of_last_month': end_of_last_month\n",
    "    }).fetchall()\n",
    "\n",
    "    print(\"Top 5 Brands for Recent Month:\")\n",
    "    for row in recent_month_result:\n",
    "        print(row)\n",
    "\n",
    "    print(\"\\nTop 5 Brands for Previous Month:\")\n",
    "    for row in last_month_result:\n",
    "        print(row)"
   ]
  },
  {
   "cell_type": "markdown",
   "id": "cf9fcf8c-35f4-43d6-b6a8-e85368929c4e",
   "metadata": {},
   "source": [
    "#### 3. Which brand has the most transactions among users who were created within the past 6 months?"
   ]
  },
  {
   "cell_type": "code",
   "execution_count": 221,
   "id": "2920acbd-9fc9-43f2-a2ca-359298a52944",
   "metadata": {},
   "outputs": [
    {
     "name": "stdout",
     "output_type": "stream",
     "text": [
      "2024-10-30 01:30:29,803 INFO sqlalchemy.engine.Engine BEGIN (implicit)\n",
      "2024-10-30 01:30:29,804 INFO sqlalchemy.engine.Engine \n",
      "        SELECT b.name, COUNT(r.receipt_id) AS transaction_count\n",
      "        FROM users u\n",
      "        JOIN receipts r ON u.user_id = r.userId\n",
      "        JOIN items i ON r.receipt_id = i.receiptId\n",
      "        JOIN brands b ON i.barcode = b.barcode\n",
      "        WHERE u.createdDate >= ?\n",
      "        GROUP BY b.name\n",
      "        ORDER BY transaction_count DESC\n",
      "        LIMIT 1;\n",
      "    \n",
      "2024-10-30 01:30:29,805 INFO sqlalchemy.engine.Engine [cached since 1780s ago] (datetime.datetime(2024, 5, 3, 1, 0, 49, 411960),)\n",
      "\n",
      "Brand with Most Transactions Among Users Created in Last 6 Months:\n",
      "None\n",
      "2024-10-30 01:30:29,807 INFO sqlalchemy.engine.Engine ROLLBACK\n"
     ]
    }
   ],
   "source": [
    "with engine.connect() as conn:\n",
    "    most_transactions_query = text(\"\"\"\n",
    "        SELECT b.name, COUNT(r.receipt_id) AS transaction_count\n",
    "        FROM users u\n",
    "        JOIN receipts r ON u.user_id = r.userId\n",
    "        JOIN items i ON r.receipt_id = i.receiptId\n",
    "        JOIN brands b ON i.barcode = b.barcode\n",
    "        WHERE u.createdDate >= :six_months_ago\n",
    "        GROUP BY b.name\n",
    "        ORDER BY transaction_count DESC\n",
    "        LIMIT 1;\n",
    "    \"\"\")\n",
    "\n",
    "    most_transactions_result = conn.execute(most_transactions_query, {'six_months_ago': six_months_ago}).fetchone()\n",
    "    print(\"\\nBrand with Most Transactions Among Users Created in Last 6 Months:\")\n",
    "    print(most_transactions_result)"
   ]
  },
  {
   "cell_type": "markdown",
   "id": "3d42bdf7-872b-46c9-ba63-8f9ccf540095",
   "metadata": {},
   "source": [
    "#### There 0 brands so let's check if there are any users created in last 6 months"
   ]
  },
  {
   "cell_type": "code",
   "execution_count": 256,
   "id": "3a70bf9a-c277-428d-bf74-f7fefcf8c719",
   "metadata": {},
   "outputs": [
    {
     "name": "stdout",
     "output_type": "stream",
     "text": [
      "2024-10-30 02:01:05,379 INFO sqlalchemy.engine.Engine BEGIN (implicit)\n",
      "2024-10-30 02:01:05,381 INFO sqlalchemy.engine.Engine \n",
      "        SELECT COUNT(*)\n",
      "        FROM users\n",
      "        WHERE createdDate >= ?\n",
      "    \n",
      "2024-10-30 02:01:05,382 INFO sqlalchemy.engine.Engine [cached since 3536s ago] (datetime.datetime(2024, 5, 3, 1, 0, 49, 411960),)\n",
      "Number of users created in the last 6 months: 0\n",
      "2024-10-30 02:01:05,385 INFO sqlalchemy.engine.Engine ROLLBACK\n"
     ]
    }
   ],
   "source": [
    "with engine.connect() as conn:\n",
    "    users_query = text(\"\"\"\n",
    "        SELECT COUNT(*)\n",
    "        FROM users\n",
    "        WHERE createdDate >= :six_months_ago\n",
    "    \"\"\")\n",
    "    users_result = conn.execute(users_query, {'six_months_ago': six_months_ago}).scalar()\n",
    "    print(f\"Number of users created in the last 6 months: {users_result}\")\n"
   ]
  },
  {
   "cell_type": "markdown",
   "id": "1a190b7a-75af-487b-af95-f43067364508",
   "metadata": {},
   "source": [
    "#### Checking the Dates"
   ]
  },
  {
   "cell_type": "code",
   "execution_count": 202,
   "id": "84a7ad71-f2f2-455a-ad3c-e1c18bcd8ff9",
   "metadata": {},
   "outputs": [
    {
     "name": "stdout",
     "output_type": "stream",
     "text": [
      "2024-10-30 01:11:05,184 INFO sqlalchemy.engine.Engine BEGIN (implicit)\n",
      "2024-10-30 01:11:05,187 INFO sqlalchemy.engine.Engine \n",
      "        SELECT createDate, dateScanned, finishedDate, modifyDate, pointsAwardedDate, purchaseDate\n",
      "        FROM receipts\n",
      "        LIMIT 10;\n",
      "    \n",
      "2024-10-30 01:11:05,188 INFO sqlalchemy.engine.Engine [cached since 184.4s ago] ()\n",
      "\n",
      "Sample Dates from Receipts Table:\n",
      "('2021-01-03 15:25:31.000000', '2021-01-03 15:25:31.000000', '2021-01-03 15:25:31.000000', '2021-01-03 15:25:36.000000', '2021-01-03 15:25:31.000000', '2021-01-03 00:00:00.000000')\n",
      "('2021-01-03 15:24:43.000000', '2021-01-03 15:24:43.000000', '2021-01-03 15:24:43.000000', '2021-01-03 15:24:48.000000', '2021-01-03 15:24:43.000000', '2021-01-02 15:24:43.000000')\n",
      "('2021-01-03 15:25:37.000000', '2021-01-03 15:25:37.000000', None, '2021-01-03 15:25:42.000000', None, '2021-01-03 00:00:00.000000')\n",
      "('2021-01-03 15:25:34.000000', '2021-01-03 15:25:34.000000', '2021-01-03 15:25:34.000000', '2021-01-03 15:25:39.000000', '2021-01-03 15:25:34.000000', '2021-01-03 00:00:00.000000')\n",
      "('2021-01-03 15:25:06.000000', '2021-01-03 15:25:06.000000', '2021-01-03 15:25:11.000000', '2021-01-03 15:25:11.000000', '2021-01-03 15:25:06.000000', '2021-01-02 15:25:06.000000')\n",
      "('2021-01-03 15:25:24.000000', '2021-01-03 15:25:24.000000', '2021-01-03 15:25:25.000000', '2021-01-03 15:25:30.000000', '2021-01-03 15:25:25.000000', '2021-01-02 15:25:24.000000')\n",
      "('2021-01-03 15:25:01.000000', '2021-01-03 15:25:01.000000', '2021-01-03 15:25:02.000000', '2021-01-03 15:25:02.000000', '2021-01-03 15:25:02.000000', '2021-01-03 15:25:01.000000')\n",
      "('2021-01-03 15:24:20.000000', '2021-01-03 15:24:20.000000', '2021-01-03 15:24:21.000000', '2021-01-03 15:24:21.000000', '2021-01-03 15:24:21.000000', '2020-12-27 00:00:00.000000')\n",
      "('2021-01-03 15:25:33.000000', '2021-01-03 15:25:33.000000', '2021-01-03 15:25:34.000000', '2021-01-03 15:25:38.000000', '2021-01-03 15:25:34.000000', '2021-01-03 00:00:00.000000')\n",
      "('2021-01-03 15:25:31.000000', '2021-01-03 15:25:31.000000', '2021-01-03 15:25:31.000000', '2021-01-03 15:25:36.000000', '2021-01-03 15:25:31.000000', '2021-01-03 00:00:00.000000')\n",
      "2024-10-30 01:11:05,194 INFO sqlalchemy.engine.Engine ROLLBACK\n"
     ]
    }
   ],
   "source": [
    "from sqlalchemy import text\n",
    "\n",
    "with engine.connect() as conn:\n",
    "    date_columns_query = text(\"\"\"\n",
    "        SELECT createDate, dateScanned, finishedDate, modifyDate, pointsAwardedDate, purchaseDate\n",
    "        FROM receipts\n",
    "        LIMIT 10;\n",
    "    \"\"\")\n",
    "\n",
    "    try:\n",
    "        date_columns_result = conn.execute(date_columns_query).fetchall()\n",
    "        if date_columns_result:\n",
    "            print(\"\\nSample Dates from Receipts Table:\")\n",
    "            for row in date_columns_result:\n",
    "                print(row)\n",
    "        else:\n",
    "            print(\"\\nNo records found in Receipts Table.\")\n",
    "    except Exception as e:\n",
    "        print(f\"An error occurred: {e}\")\n"
   ]
  },
  {
   "cell_type": "markdown",
   "id": "e1e636b2-d9fb-446d-a851-5b51c845ce69",
   "metadata": {},
   "source": [
    "## All the sample dates in the receipts table are from the year 2021. This is why queries that depend on recent data (such as transactions in the last 6 months) are returning None or empty results. The data in this database does not contain any recent records beyond 2021."
   ]
  },
  {
   "cell_type": "code",
   "execution_count": null,
   "id": "7354097e-77f0-4ea1-b2e4-d80f5dfbd4b3",
   "metadata": {},
   "outputs": [],
   "source": []
  },
  {
   "cell_type": "markdown",
   "id": "f1bda7d3-a0a8-419e-be42-4e6cd65b3cbd",
   "metadata": {},
   "source": [
    "### Adjusting date ranges for the existing data in the database"
   ]
  },
  {
   "cell_type": "code",
   "execution_count": 267,
   "id": "4107505c-afec-4c02-b616-46ae8dadd4c0",
   "metadata": {},
   "outputs": [
    {
     "name": "stdout",
     "output_type": "stream",
     "text": [
      "2024-10-30 02:06:25,111 INFO sqlalchemy.engine.Engine BEGIN (implicit)\n",
      "2024-10-30 02:06:25,112 INFO sqlalchemy.engine.Engine \n",
      "        SELECT createDate, dateScanned, finishedDate, modifyDate, pointsAwardedDate, purchaseDate\n",
      "        FROM receipts\n",
      "        LIMIT 10;\n",
      "    \n",
      "2024-10-30 02:06:25,113 INFO sqlalchemy.engine.Engine [cached since 3504s ago] ()\n",
      "\n",
      "Sample Dates from Receipts Table:\n",
      "('2021-01-03 15:25:31.000000', '2021-01-03 15:25:31.000000', '2021-01-03 15:25:31.000000', '2021-01-03 15:25:36.000000', '2021-01-03 15:25:31.000000', '2021-01-03 00:00:00.000000')\n",
      "('2021-01-03 15:24:43.000000', '2021-01-03 15:24:43.000000', '2021-01-03 15:24:43.000000', '2021-01-03 15:24:48.000000', '2021-01-03 15:24:43.000000', '2021-01-02 15:24:43.000000')\n",
      "('2021-01-03 15:25:37.000000', '2021-01-03 15:25:37.000000', None, '2021-01-03 15:25:42.000000', None, '2021-01-03 00:00:00.000000')\n",
      "('2021-01-03 15:25:34.000000', '2021-01-03 15:25:34.000000', '2021-01-03 15:25:34.000000', '2021-01-03 15:25:39.000000', '2021-01-03 15:25:34.000000', '2021-01-03 00:00:00.000000')\n",
      "('2021-01-03 15:25:06.000000', '2021-01-03 15:25:06.000000', '2021-01-03 15:25:11.000000', '2021-01-03 15:25:11.000000', '2021-01-03 15:25:06.000000', '2021-01-02 15:25:06.000000')\n",
      "('2021-01-03 15:25:24.000000', '2021-01-03 15:25:24.000000', '2021-01-03 15:25:25.000000', '2021-01-03 15:25:30.000000', '2021-01-03 15:25:25.000000', '2021-01-02 15:25:24.000000')\n",
      "('2021-01-03 15:25:01.000000', '2021-01-03 15:25:01.000000', '2021-01-03 15:25:02.000000', '2021-01-03 15:25:02.000000', '2021-01-03 15:25:02.000000', '2021-01-03 15:25:01.000000')\n",
      "('2021-01-03 15:24:20.000000', '2021-01-03 15:24:20.000000', '2021-01-03 15:24:21.000000', '2021-01-03 15:24:21.000000', '2021-01-03 15:24:21.000000', '2020-12-27 00:00:00.000000')\n",
      "('2021-01-03 15:25:33.000000', '2021-01-03 15:25:33.000000', '2021-01-03 15:25:34.000000', '2021-01-03 15:25:38.000000', '2021-01-03 15:25:34.000000', '2021-01-03 00:00:00.000000')\n",
      "('2021-01-03 15:25:31.000000', '2021-01-03 15:25:31.000000', '2021-01-03 15:25:31.000000', '2021-01-03 15:25:36.000000', '2021-01-03 15:25:31.000000', '2021-01-03 00:00:00.000000')\n",
      "2024-10-30 02:06:25,115 INFO sqlalchemy.engine.Engine ROLLBACK\n"
     ]
    }
   ],
   "source": [
    "# Adjusting date ranges for the existing data in the database (January 2021 and December 2020)\n",
    "start_of_this_month = datetime(2021, 1, 1)\n",
    "end_of_this_month = datetime(2021, 1, 31)\n",
    "\n",
    "start_of_last_month = datetime(2020, 12, 1)\n",
    "end_of_last_month = datetime(2020, 12, 31)\n",
    "\n",
    "with engine.connect() as conn:\n",
    "    date_columns_query = text(\"\"\"\n",
    "        SELECT createDate, dateScanned, finishedDate, modifyDate, pointsAwardedDate, purchaseDate\n",
    "        FROM receipts\n",
    "        LIMIT 10;\n",
    "    \"\"\")\n",
    "\n",
    "    try:\n",
    "        date_columns_result = conn.execute(date_columns_query).fetchall()\n",
    "        if date_columns_result:\n",
    "            print(\"\\nSample Dates from Receipts Table:\")\n",
    "            for row in date_columns_result:\n",
    "                print(row)\n",
    "        else:\n",
    "            print(\"\\nNo records found in Receipts Table.\")\n",
    "    except Exception as e:\n",
    "        print(f\"An error occurred: {e}\")"
   ]
  },
  {
   "cell_type": "code",
   "execution_count": 269,
   "id": "319f8d0b-0685-41ba-9641-0cf4fd80f7ca",
   "metadata": {},
   "outputs": [
    {
     "name": "stdout",
     "output_type": "stream",
     "text": [
      "2024-10-30 02:08:03,973 INFO sqlalchemy.engine.Engine BEGIN (implicit)\n",
      "2024-10-30 02:08:03,986 INFO sqlalchemy.engine.Engine \n",
      "    SELECT b.name, COUNT(r.receipt_id) AS receipt_count\n",
      "    FROM receipts r\n",
      "    JOIN items i ON r.receipt_id = i.receiptId\n",
      "    JOIN brands b ON i.barcode = b.barcode\n",
      "    WHERE r.createDate BETWEEN ? AND ?\n",
      "    GROUP BY b.name\n",
      "    ORDER BY receipt_count DESC\n",
      "    LIMIT 5;\n",
      "\n",
      "2024-10-30 02:08:03,987 INFO sqlalchemy.engine.Engine [generated in 0.01429s] (datetime.datetime(2021, 1, 1, 0, 0), datetime.datetime(2021, 1, 31, 0, 0))\n",
      "2024-10-30 02:08:04,005 INFO sqlalchemy.engine.Engine \n",
      "    SELECT b.name, COUNT(r.receipt_id) AS receipt_count\n",
      "    FROM receipts r\n",
      "    JOIN items i ON r.receipt_id = i.receiptId\n",
      "    JOIN brands b ON i.barcode = b.barcode\n",
      "    WHERE r.createDate BETWEEN ? AND ?\n",
      "    GROUP BY b.name\n",
      "    ORDER BY receipt_count DESC\n",
      "    LIMIT 5;\n",
      "\n",
      "2024-10-30 02:08:04,006 INFO sqlalchemy.engine.Engine [generated in 0.00142s] (datetime.datetime(2020, 12, 1, 0, 0), datetime.datetime(2020, 12, 31, 0, 0))\n",
      "Top 5 Brands for January 2021:\n",
      "('Tostitos', 23)\n",
      "('Swanson', 11)\n",
      "('Cracker Barrel Cheese', 10)\n",
      "('Prego', 7)\n",
      "('Diet Chris Cola', 7)\n",
      "\n",
      "Top 5 Brands for December 2020:\n",
      "2024-10-30 02:08:04,011 INFO sqlalchemy.engine.Engine ROLLBACK\n"
     ]
    }
   ],
   "source": [
    "# Queries for top 5 brands for January 2021 and December 2020\n",
    "recent_month_query = text(\"\"\"\n",
    "    SELECT b.name, COUNT(r.receipt_id) AS receipt_count\n",
    "    FROM receipts r\n",
    "    JOIN items i ON r.receipt_id = i.receiptId\n",
    "    JOIN brands b ON i.barcode = b.barcode\n",
    "    WHERE r.createDate BETWEEN :start_of_this_month AND :end_of_this_month\n",
    "    GROUP BY b.name\n",
    "    ORDER BY receipt_count DESC\n",
    "    LIMIT 5;\n",
    "\"\"\")\n",
    "\n",
    "last_month_query = text(\"\"\"\n",
    "    SELECT b.name, COUNT(r.receipt_id) AS receipt_count\n",
    "    FROM receipts r\n",
    "    JOIN items i ON r.receipt_id = i.receiptId\n",
    "    JOIN brands b ON i.barcode = b.barcode\n",
    "    WHERE r.createDate BETWEEN :start_of_last_month AND :end_of_last_month\n",
    "    GROUP BY b.name\n",
    "    ORDER BY receipt_count DESC\n",
    "    LIMIT 5;\n",
    "\"\"\")\n",
    "\n",
    "with engine.connect() as conn:\n",
    "    try:\n",
    "        # Execute queries for recent and previous month\n",
    "        recent_month_result = conn.execute(recent_month_query, {\n",
    "            'start_of_this_month': start_of_this_month,\n",
    "            'end_of_this_month': end_of_this_month\n",
    "        }).fetchall()\n",
    "\n",
    "        last_month_result = conn.execute(last_month_query, {\n",
    "            'start_of_last_month': start_of_last_month,\n",
    "            'end_of_last_month': end_of_last_month\n",
    "        }).fetchall()\n",
    "\n",
    "        print(\"Top 5 Brands for January 2021:\")\n",
    "        for row in recent_month_result:\n",
    "            print(row)\n",
    "\n",
    "        print(\"\\nTop 5 Brands for December 2020:\")\n",
    "        for row in last_month_result:\n",
    "            print(row)\n",
    "\n",
    "    except Exception as e:\n",
    "        print(f\"An error occurred: {e}\")\n"
   ]
  },
  {
   "cell_type": "markdown",
   "id": "f22e9f8c-03fa-4225-a53d-0f48ba93fc43",
   "metadata": {},
   "source": [
    "#### 4. When considering average spend from receipts with 'rewardsReceiptStatus’ of ‘Accepted’ or ‘Rejected’, which is greater?"
   ]
  },
  {
   "cell_type": "code",
   "execution_count": 236,
   "id": "3fcd19bc-1ecc-47ac-9f14-0a0767c0010b",
   "metadata": {},
   "outputs": [
    {
     "name": "stdout",
     "output_type": "stream",
     "text": [
      "2024-10-30 01:38:54,480 INFO sqlalchemy.engine.Engine BEGIN (implicit)\n",
      "2024-10-30 01:38:54,482 INFO sqlalchemy.engine.Engine \n",
      "        SELECT rewardsReceiptStatus, AVG(totalSpent) AS average_spend\n",
      "        FROM receipts\n",
      "        WHERE rewardsReceiptStatus IN ('Accepted', 'Rejected')\n",
      "        GROUP BY rewardsReceiptStatus;\n",
      "    \n",
      "2024-10-30 01:38:54,483 INFO sqlalchemy.engine.Engine [generated in 0.00343s] ()\n",
      "\n",
      "Average Spend from Receipts with 'Accepted' or 'Rejected' Status:\n",
      "2024-10-30 01:38:54,515 INFO sqlalchemy.engine.Engine ROLLBACK\n"
     ]
    }
   ],
   "source": [
    "with engine.connect() as conn:\n",
    "    avg_spend_query = text(\"\"\"\n",
    "        SELECT rewardsReceiptStatus, AVG(totalSpent) AS average_spend\n",
    "        FROM receipts\n",
    "        WHERE rewardsReceiptStatus IN ('Accepted', 'Rejected')\n",
    "        GROUP BY rewardsReceiptStatus;\n",
    "    \"\"\")\n",
    "\n",
    "    try:\n",
    "        avg_spend_result = conn.execute(avg_spend_query).fetchall()\n",
    "        print(\"\\nAverage Spend from Receipts with 'Accepted' or 'Rejected' Status:\")\n",
    "        for row in avg_spend_result:\n",
    "            print(row)\n",
    "    except Exception as e:\n",
    "        print(f\"An error occurred while fetching average spend: {e}\")"
   ]
  },
  {
   "cell_type": "markdown",
   "id": "9da87223-b3c2-49a3-9805-28edf35ec60f",
   "metadata": {},
   "source": [
    "#### Since it is returning empty let's check if there are any records with rewardsReceiptStatus as 'Accepted' or 'Rejected'."
   ]
  },
  {
   "cell_type": "code",
   "execution_count": 238,
   "id": "d4b0e6f4-77e5-4078-8542-0aca4b4a9b10",
   "metadata": {},
   "outputs": [
    {
     "name": "stdout",
     "output_type": "stream",
     "text": [
      "2024-10-30 01:40:11,358 INFO sqlalchemy.engine.Engine BEGIN (implicit)\n",
      "2024-10-30 01:40:11,360 INFO sqlalchemy.engine.Engine \n",
      "        SELECT rewardsReceiptStatus, COUNT(*)\n",
      "        FROM receipts\n",
      "        WHERE rewardsReceiptStatus IN ('Accepted', 'Rejected')\n",
      "        GROUP BY rewardsReceiptStatus;\n",
      "    \n",
      "2024-10-30 01:40:11,362 INFO sqlalchemy.engine.Engine [generated in 0.00360s] ()\n",
      "\n",
      "No receipts found with 'Accepted' or 'Rejected' status.\n",
      "2024-10-30 01:40:11,370 INFO sqlalchemy.engine.Engine ROLLBACK\n"
     ]
    }
   ],
   "source": [
    "with engine.connect() as conn:\n",
    "    status_check_query = text(\"\"\"\n",
    "        SELECT rewardsReceiptStatus, COUNT(*)\n",
    "        FROM receipts\n",
    "        WHERE rewardsReceiptStatus IN ('Accepted', 'Rejected')\n",
    "        GROUP BY rewardsReceiptStatus;\n",
    "    \"\"\")\n",
    "\n",
    "    try:\n",
    "        status_check_result = conn.execute(status_check_query).fetchall()\n",
    "        if status_check_result:\n",
    "            print(\"\\nCount of Receipts with 'Accepted' or 'Rejected' Status:\")\n",
    "            for row in status_check_result:\n",
    "                print(row)\n",
    "        else:\n",
    "            print(\"\\nNo receipts found with 'Accepted' or 'Rejected' status.\")\n",
    "    except Exception as e:\n",
    "        print(f\"An error occurred while checking receipt status: {e}\")\n"
   ]
  },
  {
   "cell_type": "markdown",
   "id": "d5497244-35d0-4322-a936-16a4ca71befd",
   "metadata": {},
   "source": [
    "#### Since no receipts found let's check the values existing in the rewardsReceiptStatus column."
   ]
  },
  {
   "cell_type": "code",
   "execution_count": 251,
   "id": "a8640591-885c-4d6e-b387-077ec4a9168b",
   "metadata": {},
   "outputs": [
    {
     "name": "stdout",
     "output_type": "stream",
     "text": [
      "2024-10-30 01:49:45,139 INFO sqlalchemy.engine.Engine BEGIN (implicit)\n",
      "2024-10-30 01:49:45,141 INFO sqlalchemy.engine.Engine \n",
      "        SELECT DISTINCT rewardsReceiptStatus\n",
      "        FROM receipts;\n",
      "    \n",
      "2024-10-30 01:49:45,142 INFO sqlalchemy.engine.Engine [cached since 520.4s ago] ()\n",
      "\n",
      "Unique Rewards Receipt Status Values:\n",
      "('FINISHED',)\n",
      "('REJECTED',)\n",
      "('FLAGGED',)\n",
      "('SUBMITTED',)\n",
      "('PENDING',)\n",
      "2024-10-30 01:49:45,151 INFO sqlalchemy.engine.Engine ROLLBACK\n"
     ]
    }
   ],
   "source": [
    "with engine.connect() as conn:\n",
    "    unique_status_query = text(\"\"\"\n",
    "        SELECT DISTINCT rewardsReceiptStatus\n",
    "        FROM receipts;\n",
    "    \"\"\")\n",
    "\n",
    "    try:\n",
    "        unique_status_result = conn.execute(unique_status_query).fetchall()\n",
    "        if unique_status_result:\n",
    "            print(\"\\nUnique Rewards Receipt Status Values:\")\n",
    "            for row in unique_status_result:\n",
    "                print(row)\n",
    "        else:\n",
    "            print(\"\\nNo rewardsReceiptStatus found in Receipts Table.\")\n",
    "    except Exception as e:\n",
    "        print(f\"An error occurred while fetching unique receipt status values: {e}\")\n"
   ]
  },
  {
   "cell_type": "markdown",
   "id": "d424d1e1-b7ee-43f7-a81d-9ed6760cd7bd",
   "metadata": {},
   "source": [
    "#### Accepted is not present, we can use the appropriate available status. FINISHED and REJECTED"
   ]
  },
  {
   "cell_type": "code",
   "execution_count": 242,
   "id": "465533d3-3ca1-423f-81e6-7e0298b5ccb0",
   "metadata": {},
   "outputs": [
    {
     "name": "stdout",
     "output_type": "stream",
     "text": [
      "2024-10-30 01:42:07,678 INFO sqlalchemy.engine.Engine BEGIN (implicit)\n",
      "2024-10-30 01:42:07,681 INFO sqlalchemy.engine.Engine \n",
      "        SELECT rewardsReceiptStatus, AVG(totalSpent) AS average_spend\n",
      "        FROM receipts\n",
      "        WHERE rewardsReceiptStatus IN ('FINISHED', 'REJECTED')\n",
      "        GROUP BY rewardsReceiptStatus;\n",
      "    \n",
      "2024-10-30 01:42:07,681 INFO sqlalchemy.engine.Engine [generated in 0.00433s] ()\n",
      "\n",
      "Average Spend from Receipts with 'FINISHED' or 'REJECTED' Status:\n",
      "('FINISHED', 80.85430501930502)\n",
      "('REJECTED', 23.32605633802817)\n",
      "2024-10-30 01:42:07,691 INFO sqlalchemy.engine.Engine ROLLBACK\n"
     ]
    }
   ],
   "source": [
    "with engine.connect() as conn:\n",
    "    avg_spend_query = text(\"\"\"\n",
    "        SELECT rewardsReceiptStatus, AVG(totalSpent) AS average_spend\n",
    "        FROM receipts\n",
    "        WHERE rewardsReceiptStatus IN ('FINISHED', 'REJECTED')\n",
    "        GROUP BY rewardsReceiptStatus;\n",
    "    \"\"\")\n",
    "\n",
    "    try:\n",
    "        avg_spend_result = conn.execute(avg_spend_query).fetchall()\n",
    "        if avg_spend_result:\n",
    "            print(\"\\nAverage Spend from Receipts with 'FINISHED' or 'REJECTED' Status:\")\n",
    "            for row in avg_spend_result:\n",
    "                print(row)\n",
    "        else:\n",
    "            print(\"\\nNo receipts found with 'FINISHED' or 'REJECTED' status.\")\n",
    "    except Exception as e:\n",
    "        print(f\"An error occurred while fetching average spend: {e}\")\n"
   ]
  },
  {
   "cell_type": "markdown",
   "id": "fa4a3719-eda8-4f1b-94e0-ee6055e84c52",
   "metadata": {},
   "source": [
    "### Based on the results:\n",
    "#### 1. Average Spend for 'FINISHED' Receipts: 80.85\n",
    "#### 2. Average Spend for 'REJECTED' Receipts: 23.33\n",
    "#### The average spend is greater for receipts with a status of 'FINISHED' compared to 'REJECTED'."
   ]
  },
  {
   "cell_type": "code",
   "execution_count": null,
   "id": "b7928179-8041-4363-a50c-5be00a08742b",
   "metadata": {},
   "outputs": [],
   "source": []
  }
 ],
 "metadata": {
  "kernelspec": {
   "display_name": "Python 3 (ipykernel)",
   "language": "python",
   "name": "python3"
  },
  "language_info": {
   "codemirror_mode": {
    "name": "ipython",
    "version": 3
   },
   "file_extension": ".py",
   "mimetype": "text/x-python",
   "name": "python",
   "nbconvert_exporter": "python",
   "pygments_lexer": "ipython3",
   "version": "3.12.4"
  }
 },
 "nbformat": 4,
 "nbformat_minor": 5
}
